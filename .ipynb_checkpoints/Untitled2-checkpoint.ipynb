{
 "cells": [
  {
   "cell_type": "markdown",
   "metadata": {},
   "source": [
    "# Estimating Conditional Distributions \n",
    "\n",
    "## Statistical Linearization \n",
    "\n",
    "Suppose, as before, that \n",
    "\\begin{equation}\n",
    "\\begin{gathered}\n",
    "x \\sim N(\\pmb{x_0}, P_x) \\\\\n",
    "\\pmb{y} = f(\\pmb{x}) \n",
    "\\end{gathered}\n",
    "\\end{equation}\n",
    "where $f$ is a nonlinear function. In statistical linearization, one forms a linear approximation of the nonlinear transformation \n",
    "\\begin{equation}\n",
    "g(\\pmb{x}) \\approx \\pmb{b} + A \\delta \\pmb{x} = \\pmb{b} + A (\\pmb{x} - \\pmb{x_0})\n",
    "\\end{equation}\n",
    "that minimizes the mean square error\n",
    "\\begin{equation}\n",
    "\\text{MSE}(\\pmb{b}, A) = E[(f(\\pmb{x}) - \\pmb{b} -  A \\delta \\pmb{x})\\; (f(\\pmb{x}) - \\pmb{b} -  A \\delta \\pmb{x})^T].\n",
    "\\end{equation}\n",
    "Minimizing this function yields\n",
    "\\begin{equation}\n",
    "\\pmb{b} = E[f(\\pmb{x})]\n",
    "\\end{equation}\n",
    "\\begin{equation}\n",
    "A = E[f(\\pmb{x}) \\delta \\pmb{x}] P_x^{-1}.\n",
    "\\end{equation}\n",
    "Here  $\\pmb{b} = E[f(\\pmb{x})]$ is exactly the mean of $\\pmb{y} = f(\\pmb{x})$. The approximate covariance is given by \n",
    "\\begin{equation}\n",
    "\\begin{gathered}\n",
    "P_y = E[(f(\\pmb{x}) - E(f(\\pmb{x})) \\; (f(\\pmb{x}) - E(f(\\pmb{x}))^T] \\\\ \n",
    "\\approx A P_x A^T = E[f(\\pmb{x}) \\; \\delta \\pmb{x}^T] P_x^{-1} E[f(\\pmb{x}) \\; \\delta \\pmb{x}^T].\n",
    "\\end{gathered}\n",
    "\\end{equation}\n",
    "Not that statistical linearization involves computing expectation integrals $E[f(\\pmb{x})]$ and $E[f(\\pmb{x}) \\; \\delta \\pmb{x}^T]$ of the form discussed in the section on [Gaussian transformations](gaussian_transformation.ipynb).\n",
    "\n",
    "\n",
    "## Conditional Distribution for Additive Transform \n",
    "\n",
    "Consider a noisy additive transform of the form \n",
    "\\begin{equation}\n",
    "\\begin{gathered}\n",
    "\\pmb{y} = f(\\pmb{x}) + \\pmb{q} \\\\\n",
    "x \\sim N(\\pmb{x_0}, P_x) \\\\\n",
    "q \\sim N(\\pmb{0}, Q)\n",
    "\\end{gathered}\n",
    "\\end{equation}\n",
    "where $\\pmb{q}$ is the measurement noise. Performing statistical linearization on the augmented function $\\hat{f}(\\pmb{x}) = [\\pmb{x}, f(\\pmb{x})]$ yields \n",
    "\\begin{equation}\n",
    "E[\\hat{f}(\\pmb{x})]\n",
    "\\end{equation}\n"
   ]
  },
  {
   "cell_type": "code",
   "execution_count": null,
   "metadata": {},
   "outputs": [],
   "source": []
  }
 ],
 "metadata": {
  "kernelspec": {
   "display_name": ".mut",
   "language": "python",
   "name": ".mut"
  },
  "language_info": {
   "codemirror_mode": {
    "name": "ipython",
    "version": 3
   },
   "file_extension": ".py",
   "mimetype": "text/x-python",
   "name": "python",
   "nbconvert_exporter": "python",
   "pygments_lexer": "ipython3",
   "version": "3.6.7"
  }
 },
 "nbformat": 4,
 "nbformat_minor": 2
}
