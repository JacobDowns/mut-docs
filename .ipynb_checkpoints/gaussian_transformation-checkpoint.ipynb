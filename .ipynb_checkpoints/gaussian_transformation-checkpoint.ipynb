{
 "cells": [
  {
   "cell_type": "markdown",
   "metadata": {},
   "source": [
    "# Nonlinear Transformation of a Gaussian\n",
    "\n",
    "Suppose that $\\pmb{x} \\sim N(\\pmb{x_0}, P_x)$ is a Gaussian random variable with mean $\\pmb{x_0}$ and covariance matrix $P_x$. If $\\mathcal{F} : \\mathbb{R}^n \\to \\mathbb{R}^m$ is a nonlinear function, we would like to approximate the statistics of the non-Gaussian random variable\n",
    "\\begin{equation}\n",
    "\\pmb{y} = \\mathcal{F}(\\pmb{x}) \n",
    "\\end{equation}\n",
    "There are many practical applications of this problem, that we will explore later. For now, we'll introduce some basic theory. \n",
    "\n",
    "Formally, the probability density of the random variable $\\pmb{y}$ is given by \n",
    "\\begin{equation}\n",
    "P(\\pmb{y}) = \n",
    "\\begin{cases} \n",
    "      |J(\\pmb{y})| N(\\mathcal{F}^{-1}(\\pmb{y}) | \\pmb{x_0}, P_x) & \\text{ if } \\pmb{y} = \\mathcal{F}(\\pmb{x}) \\text{ for some } \\pmb{x} \\\\\n",
    "      0 & \\text{otherwise} \n",
    "\\end{cases}\n",
    "\\end{equation}\n",
    "where $|J(\\pmb{y})|$ is the determinant of the Jacobian of $\\mathcal{F}^{-1}$. Technically this applies for strictly monotone differentiable functions $\\mathcal{F}$. \n",
    "\n",
    "Below, we show a simple example where $x \\sim N(0, 1)$ and $\\mathcal{F}$ is the logistic function \n",
    "\\begin{equation}\n",
    "y = \\mathcal{F}(x) = \\frac{1}{1 + e^{-x}}\n",
    "\\end{equation}"
   ]
  },
  {
   "cell_type": "code",
   "execution_count": 2,
   "metadata": {},
   "outputs": [
    {
     "data": {
      "image/png": "[encoded data removed]",
      "text/plain": [
       "<Figure size 432x288 with 1 Axes>"
      ]
     },
     "metadata": {
      "needs_background": "light"
     },
     "output_type": "display_data"
    }
   ],
   "source": [
    "import numpy as np\n",
    "import matplotlib.pyplot as plt\n",
    "import plot.basic_plot\n",
    "\n",
    "# Plot the probability distribution for y = F(x) \n",
    "# where F(x) is the logistic function and x ~ N(0,1)\n",
    "\n",
    "# Probability density of x\n",
    "def Px(x):\n",
    "    return (1./np.sqrt(2.*np.pi)) * np.exp(-x**2 / 2.)\n",
    "\n",
    "# Nonlinear function\n",
    "def F(x):\n",
    "    return 1. / (1. + np.exp(-x))\n",
    "\n",
    "# Inverse of nonlinear function\n",
    "def F_inv(x):\n",
    "    return np.log(x / (1. - x))\n",
    "\n",
    "# Probability density of y\n",
    "def Py(y):\n",
    "    # Determinant of Jacobian of F^{-1}(y) \n",
    "    Jy = (1. / y) + (1. / (1. - y))\n",
    "    return Jy*Px(F_inv(y))\n",
    "\n",
    "# Randomly sample from the distribution and plot a histogram \n",
    "x = np.random.randn(5000)\n",
    "plt.hist(F(x), bins = 100, density = True)\n",
    "# Plot the distribution computed analytically\n",
    "y = np.linspace(1e-16, 1.0-1e-16, 1000)\n",
    "plt.plot(y, Py(y))\n",
    "\n",
    "plt.xlabel('y')\n",
    "plt.ylabel('P(y)')\n",
    "\n",
    "plt.show()\n"
   ]
  },
  {
   "cell_type": "markdown",
   "metadata": {},
   "source": [
    "## Expected Values using the Law of the unconscious statistician\n",
    "\n",
    "Using the definition above is cumbersome and rarely practical for complicated nonlinear transformations. Typically, we are more interested in computing certain statistics of the random variable $\\pmb{y}$, such as its mean and covariance. Enter the law of the unconscious statistician. \n",
    "\n",
    "As before, suppose that $\\pmb{x}$ is a Gaussian random variable. We can compute the expected value of $\\pmb{y} = \\mathcal{F}(\\pmb{x})$ denoted $E[\\pmb{y}]$ without explicitely knowing its associated probability density function as follows:\n",
    "\n",
    "\\begin{equation}\n",
    "\\label{eq:gwint}\n",
    "E[\\pmb{y}] = \\int \\mathcal{F}(\\pmb{x}) N(\\pmb{x} | \\pmb{x_0}, P_x) d \\pmb{x}\n",
    "\\end{equation}\n",
    "\n",
    "In other words, $E[\\pmb{y}]$ can be computed as a Gaussian weighted integral. Let's return to our logistic function example $y = \\mathcal{F}(x) = \\frac{1}{1 + e^{-x}}$ and compute the expected value of $y$ using random sampling and numerical integration. "
   ]
  },
  {
   "cell_type": "code",
   "execution_count": 14,
   "metadata": {},
   "outputs": [
    {
     "name": "stdout",
     "output_type": "stream",
     "text": [
      "Random sampling estimate: 0.4930209985016708\n",
      "Integral estimate: 0.49999999901341236\n"
     ]
    }
   ],
   "source": [
    "from scipy.integrate import quad\n",
    "\n",
    "# Estimate expected value of y by random sampling\n",
    "y_mean1 = F(x).mean()\n",
    "\n",
    "# Estimate expected value of y using the law of the unconscious\n",
    "#statistician, \n",
    "y_mean2 = quad(lambda x : F(x)*Px(x), -6., 6.)[0]\n",
    "\n",
    "print(\"Random sampling estimate: {}\".format(y_mean1))\n",
    "print(\"Integral estimate: {}\".format(y_mean2))"
   ]
  },
  {
   "cell_type": "markdown",
   "metadata": {},
   "source": [
    "Covariance is also defined in terms of expected values:\n",
    "\\begin{equation}\n",
    "\\text{Cov}[\\pmb{y}] = E[(\\mathcal{F}(\\pmb{x}) - E[\\mathcal{F}(\\pmb{x})])(\\mathcal{F}(\\pmb{x}) - E[\\mathcal{F}(\\pmb{x})])^T]\n",
    "\\end{equation}\n",
    "Given the importance of these types of expected value integrals, considerable effort has gone into efficiently estimating Gaussian weighted integrals of the form shown in Equation \\ref{eq:gwint}. For a simple 1D problem, a basic quadrature rule suffices. In the next section, we will discuss how standard quadrature rules rapidly become computationally intractable as dimensionality of the problem grows. Then we will show some alternative methods for computing Gaussian weighted integrals including the Unscented Transform. "
   ]
  }
 ],
 "metadata": {
  "kernelspec": {
   "display_name": ".venv",
   "language": "python",
   "name": ".venv"
  },
  "language_info": {
   "codemirror_mode": {
    "name": "ipython",
    "version": 3
   },
   "file_extension": ".py",
   "mimetype": "text/x-python",
   "name": "python",
   "nbconvert_exporter": "python",
   "pygments_lexer": "ipython3",
   "version": "3.5.2"
  }
 },
 "nbformat": 4,
 "nbformat_minor": 2
}
