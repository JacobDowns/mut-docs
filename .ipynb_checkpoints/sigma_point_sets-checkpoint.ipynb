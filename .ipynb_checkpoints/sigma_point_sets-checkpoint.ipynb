{
 "cells": [
  {
   "cell_type": "markdown",
   "metadata": {},
   "source": [
    "# Sigma Point Sets\n",
    "\n",
    "The following sigma point sets are available in the Totally Unscented Transform library (TUT). \n",
    "\n",
    "<table style=\"width:100%\">\n",
    "  <tr>\n",
    "    <th>Shorthand Name</th>\n",
    "    <th>Number of Points</th> \n",
    "    <th>Order</th>\n",
    "  </tr>\n",
    "  <tr>\n",
    "    <td>gauss</td>\n",
    "    <td>$2n+1$</td> \n",
    "    <td>3</td>\n",
    "  </tr>\n",
    "  <tr>\n",
    "    <td>merwe</td>\n",
    "    <td>$2n+1$</td> \n",
    "    <td>3</td>\n",
    "  </tr>\n",
    "  <tr>\n",
    "    <td>julier</td>\n",
    "    <td>$2n+1$</td> \n",
    "    <td>3</td>\n",
    "  </tr>\n",
    "  <tr>\n",
    "    <td>menegaz</td>\n",
    "    <td>$n+1$</td> \n",
    "    <td>3</td>\n",
    "  </tr>\n",
    "  <tr>\n",
    "    <td>simplex</td>\n",
    "    <td>$n+1$</td> \n",
    "    <td>3</td>\n",
    "  </tr>\n",
    "  <tr>\n",
    "    <td>gauss_hermite</td>\n",
    "    <td></td> \n",
    "    <td>3</td>\n",
    "  </tr>\n",
    "  <tr>\n",
    "    <td>li</td>\n",
    "    <td>$2n^2 + 1$</td> \n",
    "    <td>5</td>\n",
    "  </tr>\n",
    "    <tr>\n",
    "    <td>mysovskikh</td>\n",
    "    <td>$n^2 + 3n + 3$</td> \n",
    "    <td>5</td>\n",
    "  </tr>\n",
    "</table>\n",
    "\n",
    "Here we outline how sigma point sets are generated for the Gaussian weighting function $N(\\pmb{x_0}, P_x)$ with mean $\\pmb{x_0}$ and covariance matrix $P_x$. Notationally, $[\\sqrt{P_x}]_i$ refers to the $i$-th row of a matrix square root of $P_x$. \n",
    "\n",
    "## Van der Merwe Sigma Points\n",
    "\n",
    "This is a popular set of sigma points published in Rudolph Van der Merwe's PhD dissertation [1], based on the scaled unscented transform [2]. It is a third order method, with three scaling parameters $\\alpha, \\beta$ and $\\kappa$ and $2n+1$ sigma points given by\n",
    "\\begin{equation}\n",
    "\\pmb{\\chi_i} =\n",
    "\\begin{cases} \n",
    "      \\pmb{x_0} & i = 0 \\\\\n",
    "      \\pmb{x_0} - \\sqrt{n + \\lambda} [\\sqrt{P_x}]_i & i = 1, \\cdots, n\\\\\n",
    "      \\pmb{x_0} + \\sqrt{n + \\lambda} [\\sqrt{P_x}]_i & i = n+1, \\cdots, 2n\n",
    "\\end{cases}\n",
    "\\end{equation}\n",
    "where\n",
    "\\begin{equation}\n",
    "\\lambda = \\alpha^2 (n + \\kappa) - n.\n",
    "\\end{equation}\n",
    "\n",
    "There are different weights $w_i^m$ and $w_i^c$ for computing mean and  covariance estimates respectively:\n",
    "\n",
    "\\begin{equation}\n",
    "w_i^m =\n",
    "\\begin{cases} \n",
    "      \\frac{\\lambda}{n + \\lambda} & i = 0 \\\\\n",
    "      \\frac{1}{2(n+\\lambda)} & i = 1, \\cdots, 2n\n",
    "\\end{cases}\n",
    "\\end{equation}\n",
    "\n",
    "\\begin{equation}\n",
    "w_i^c =\n",
    "\\begin{cases} \n",
    "      \\frac{\\lambda}{n + \\lambda} + 1 - \\alpha^2 + \\beta & i = 0 \\\\\n",
    "      \\frac{1}{2(n+\\lambda)} & i = 1, \\cdots, 2n\n",
    "\\end{cases}\n",
    "\\end{equation}\n",
    "\n",
    "According to [3], $\\beta = 2$, $\\kappa = 3 - n$, and $0 \\leq \\alpha \\leq 1$ are appropriate default choices. Unless otherwise specified, these are the default values used by TUT. However, other choices may be more appropriate for your problem."
   ]
  },
  {
   "cell_type": "code",
   "execution_count": 2,
   "metadata": {
    "scrolled": false
   },
   "outputs": [
    {
     "data": {
      "image/png": "[encoded data removed]",
      "text/plain": [
       "<Figure size 432x288 with 1 Axes>"
      ]
     },
     "metadata": {
      "needs_background": "light"
     },
     "output_type": "display_data"
    }
   ],
   "source": [
    "from filterpy.kalman.tut.tut_sigmas import TutSigmaPoints\n",
    "import numpy as np\n",
    "import matplotlib.pyplot as plt\n",
    "\n",
    "# Van der Merwe sigma points in 2D\n",
    "points = TutSigmaPoints()\n",
    "X1, wm, wc = points.get_set(np.zeros(2), np.eye(2), 'merwe')\n",
    "# Different scaling parameters\n",
    "X2, wm, wc = points.get_set(np.zeros(2), np.eye(2), 'merwe', alpha = 0.9)\n",
    "\n",
    "\n",
    "plt.scatter(X1[0,:], X1[1,:], s = 250.*wm / wm.max())\n",
    "plt.scatter(X2[0,:], X2[1,:], s = 250.*wm / wm.max(), marker = '^')\n",
    "plt.show()\n"
   ]
  },
  {
   "cell_type": "markdown",
   "metadata": {},
   "source": [
    "## Gauss Sigma Points\n",
    "\n",
    "Gauss sigma points are just van der Merwe sigma points with $\\alpha=1$, $\\beta=0$ and $\\kappa=3$ []."
   ]
  },
  {
   "cell_type": "markdown",
   "metadata": {},
   "source": [
    "## Julier Sigma Points\n",
    "\n",
    "Another common sigma point set for the unscented transform is the Julier sigma point set [].  It has $2n+1$ points with a single scaling parameter $\\kappa$. Setting $\\kappa = 3 - n$ has the benefit of integrating one additional 4th order moment, and hence this is the preferred default value. As with all scaling parameters, the best choice is problem dependent. Points are given by:\n",
    "\\begin{equation}\n",
    "\\pmb{\\chi_i} =\n",
    "\\begin{cases} \n",
    "      \\pmb{x_0} & i = 0 \\\\\n",
    "      \\pmb{x_0} - \\sqrt{n + \\kappa} [\\sqrt{P_x}]_i & i = 1, \\cdots, n\\\\\n",
    "      \\pmb{x_0} + \\sqrt{n + \\kappa} [\\sqrt{P_x}]_i & i = n+1, \\cdots, 2n\n",
    "\\end{cases}\n",
    "\\end{equation}\n",
    "Weights are given by:\n",
    "\\begin{equation}\n",
    "w_i^m = w_i^c =\n",
    "\\begin{cases} \n",
    "      \\frac{\\kappa}{n + \\kappa} & i = 0 \\\\\n",
    "      \\frac{1}{2(n+\\kappa)} & i = 1, \\cdots, 2n\n",
    "\\end{cases}\n",
    "\\end{equation}"
   ]
  },
  {
   "cell_type": "code",
   "execution_count": 3,
   "metadata": {},
   "outputs": [
    {
     "data": {
      "image/png": "[encoded data removed]",
      "text/plain": [
       "<Figure size 432x288 with 1 Axes>"
      ]
     },
     "metadata": {
      "needs_background": "light"
     },
     "output_type": "display_data"
    }
   ],
   "source": [
    "# Julier points in 2D\n",
    "points = TutSigmaPoints()\n",
    "X1, wm, wc = points.get_set(np.zeros(2), np.eye(2), 'julier')\n",
    "# Different scaling parameter\n",
    "X2, wm, wc = points.get_set(np.zeros(2), np.eye(2), 'julier', kappa = 5.)\n",
    "\n",
    "plt.scatter(X1[0,:], X1[1,:], s = 250.*wm / wm.max())\n",
    "plt.scatter(X2[0,:], X2[1,:], s = 250.*wm / wm.max(), marker = '^')\n",
    "plt.show()"
   ]
  },
  {
   "cell_type": "markdown",
   "metadata": {},
   "source": [
    "## Menegaz Sigma Points\n",
    "\n",
    "Menegaz 2011 [] defines a minimal set of $n+1$ sigma points, with one scaling parameter $0 < w_0 < 1$. Some additional notation is needed to define the point and weight sets. The notation $[a]_{p \\times q}$ with $a \\in \\mathbb{R}$ represents a matrix of dimension $p \\times q$ in which all terms are equal to $a$. The notation $\\text{diag}(\\pmb{x})$ for $\\pmb{x} \\in \\mathbb{R}^n$ denotes an $n \\times n$ matrix with $\\pmb{x}$ on the diagonal. We have:\n",
    "\\begin{equation}\n",
    "X = \\left [ \\pmb{\\chi_0} \\cdots \\pmb{\\chi_n} \\right ] = \\left [-\\sqrt{P_x} \\frac{[\\alpha]_{n \\times 1}}{w_0} \\quad \\sqrt{P_x} C (\\sqrt{W})^{-1} \\right ] + \\left [ \\pmb{x_0} \\cdots \\pmb{x_0} \\right ]\n",
    "\\end{equation}\n",
    "\n",
    "\\begin{equation}\n",
    "W = \\text{diag}([w_1, \\cdots, w_n])\n",
    "\\end{equation}\n",
    "\n",
    "\\begin{equation}\n",
    "\\begin{bmatrix} \n",
    "w_1 & \\cdots & \\sqrt{w_1}\\sqrt{w_n} \\\\\n",
    "\\vdots & \\ddots & \\vdots \\\\\n",
    "\\sqrt{w_1} \\sqrt{w_n} & \\cdots & w_n \n",
    "\\end{bmatrix}\n",
    "= w_0 \\alpha^2 C^{-1} [1]_{n \\times n} (C^T)^{-1}\n",
    "\\end{equation}\n",
    "\n",
    "\\begin{equation}\n",
    "C = \\sqrt{I - \\alpha^2 [1]_{n \\times n}}\n",
    "\\end{equation}\n",
    "\n",
    "\\begin{equation}\n",
    "\\alpha = \\sqrt{\\frac{1 - w_0}{n}}\n",
    "\\end{equation}"
   ]
  },
  {
   "cell_type": "code",
   "execution_count": 4,
   "metadata": {},
   "outputs": [
    {
     "data": {
      "image/png": "[encoded data removed]",
      "text/plain": [
       "<Figure size 432x288 with 1 Axes>"
      ]
     },
     "metadata": {
      "needs_background": "light"
     },
     "output_type": "display_data"
    }
   ],
   "source": [
    "# Julier points in 2D\n",
    "X1, wm, wc = points.get_set(np.zeros(2), np.eye(2), 'menegaz')\n",
    "# Different scaling parameter\n",
    "X2, wm, wc = points.get_set(np.zeros(2), np.eye(2), 'menegaz', w0 = .9)\n",
    "\n",
    "plt.scatter(X1[0,:], X1[1,:], s = 250.*wm / wm.max())\n",
    "plt.scatter(X2[0,:], X2[1,:], s = 250.*wm / wm.max(), marker = '^')\n",
    "plt.show()"
   ]
  },
  {
   "cell_type": "markdown",
   "metadata": {},
   "source": [
    "## Simplex Sigma Points\n",
    "\n",
    "Another minimal set of $n+1$ sigma points is presented in []. It is a third order method with no scaling parameters. \n",
    "\n",
    "\\begin{equation}\n",
    "X = \\left [ \\pmb{\\chi_0} \\cdots \\pmb{\\chi_n} \\right ] = X_{n+1}^*\n",
    "\\end{equation}\n",
    "The matrices $X_i^*$ are defined recursively. We have \n",
    "\\begin{equation}\n",
    "X_1 = \\left [-\\frac{1}{2 \\alpha} \\quad \\frac{1}{2 \\alpha} \\right ]\n",
    "\\end{equation}\n",
    "where $\\alpha = \\frac{n}{n+1}$. $X_i^*$ is generated from $X_{i-1}^*$ via\n",
    "\\begin{equation}\n",
    "X_i^* = \n",
    "\\begin{bmatrix} \n",
    " & & & 0 \\\\\n",
    " & X_{i-1}^* & & \\vdots \\\\\n",
    " & & & 0 \\\\\n",
    " \\frac{1}{\\sqrt{\\alpha i (i + 1)}} &  \\frac{1}{\\sqrt{\\alpha i (i + 1)}} &  \\frac{1}{\\sqrt{\\alpha i (i + 1)}} &  \\frac{-i}{\\sqrt{\\alpha i (i + 1)}}\n",
    "\\end{bmatrix}.\n",
    "\\end{equation}\n",
    "Weights are given by \n",
    "\\begin{equation}\n",
    "w_i^m = w_i^c = \\alpha\n",
    "\\end{equation}."
   ]
  },
  {
   "cell_type": "code",
   "execution_count": 5,
   "metadata": {},
   "outputs": [
    {
     "data": {
      "image/png": "[encoded data removed]",
      "text/plain": [
       "<Figure size 432x288 with 1 Axes>"
      ]
     },
     "metadata": {
      "needs_background": "light"
     },
     "output_type": "display_data"
    }
   ],
   "source": [
    "# Julier points in 2D\n",
    "X1, wm, wc = points.get_set(np.zeros(2), np.eye(2), 'simplex')\n",
    "\n",
    "plt.scatter(X1[0,:], X1[1,:], s = 250.*wm / wm.max())\n",
    "plt.show()"
   ]
  },
  {
   "cell_type": "markdown",
   "metadata": {},
   "source": [
    "## Li Sigma Points\n",
    "\n",
    "TUT includes a modified version of the fifth-order quadrature rule with $2n^2 + 1$ points presented in Li []. It contains one scaling parameter $r$. Setting $r = \\sqrt{3}$ recovers the method in Li. The method in Li is formulated in terms of fully symmetric sets of points. A set of points $\\{\\pmb{s_1}, \\pmb{s_2}, \\cdots, \\pmb{s_N}\\}$ is called fully symmetric if it is closed under the operations of coordinate position and sign permutations. We denote by $S(\\pmb{x})$ a matrix whose columns are all vectors contained in the fully symmetric set generated by $\\pmb{x}$ -- that is, vectors that can be obtained through coordinate position and sign permutations on $\\pmb{x}$.\n",
    "We have\n",
    "\\begin{equation}\n",
    "\\begin{gathered}\n",
    "X =  \\left [ \\pmb{\\chi_0} \\cdots \\pmb{\\chi}_{2n^2} \\right ] \\\\\n",
    "= \\sqrt{P_x} \\left [ \\pmb{0} \\quad X([\\lambda, 0, \\cdots 0]^T) \\quad X([r, r, 0, \\cdots, 0]^T) \\right ] + \\left [ \\pmb{x_0} \\cdots \\pmb{x_0} \\right ] \n",
    "\\end{gathered}\n",
    "\\end{equation}\n",
    "where \n",
    "\\begin{equation}\n",
    "\\lambda = \\frac{r\\sqrt{n-4}}{n - r^2 - 1}.\n",
    "\\end{equation}\n",
    "Sigma points in $X([r, r, 0, \\cdots, 0]^T) \n"
   ]
  },
  {
   "cell_type": "code",
   "execution_count": null,
   "metadata": {},
   "outputs": [],
   "source": []
  },
  {
   "cell_type": "markdown",
   "metadata": {},
   "source": [
    "## Gauss-Hermite Sigma Points"
   ]
  },
  {
   "cell_type": "code",
   "execution_count": null,
   "metadata": {},
   "outputs": [],
   "source": [
    "# Julier points in 2D\n",
    "X, wm, wc = points.get_set(np.zeros(2), np.eye(2), 'hermite')\n",
    "\n",
    "plt.scatter(X[0,:], X1[1,:], s = 250.*wm / wm.max())\n",
    "plt.show()"
   ]
  }
 ],
 "metadata": {
  "kernelspec": {
   "display_name": ".venv",
   "language": "python",
   "name": ".venv"
  },
  "language_info": {
   "codemirror_mode": {
    "name": "ipython",
    "version": 3
   },
   "file_extension": ".py",
   "mimetype": "text/x-python",
   "name": "python",
   "nbconvert_exporter": "python",
   "pygments_lexer": "ipython3",
   "version": "3.7.0"
  }
 },
 "nbformat": 4,
 "nbformat_minor": 2
}
