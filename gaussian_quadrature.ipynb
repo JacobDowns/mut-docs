{
 "cells": [
  {
   "cell_type": "markdown",
   "metadata": {},
   "source": [
    "# Gaussian Quadrature\n",
    "\n",
    "Here we consider the problem of efficiently estimating integrals of the form \n",
    "\\begin{equation}\n",
    "E[\\mathcal{F}(\\pmb{x})] = \\int \\mathcal{F}(\\pmb{x}) N(\\pmb{x} | \\pmb{0}, I) d \\pmb{x}.\n",
    "\\end{equation}\n",
    "\n",
    "\n"
   ]
  }
 ],
 "metadata": {
  "kernelspec": {
   "display_name": ".venv",
   "language": "python",
   "name": ".venv"
  },
  "language_info": {
   "codemirror_mode": {
    "name": "ipython",
    "version": 3
   },
   "file_extension": ".py",
   "mimetype": "text/x-python",
   "name": "python",
   "nbconvert_exporter": "python",
   "pygments_lexer": "ipython3",
   "version": "3.5.2"
  }
 },
 "nbformat": 4,
 "nbformat_minor": 2
}
