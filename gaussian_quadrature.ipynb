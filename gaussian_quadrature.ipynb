{
 "cells": [
  {
   "cell_type": "markdown",
   "metadata": {},
   "source": [
    "# Gaussian Quadrature\n",
    "\n",
    "Here we consider the problem of efficiently estimating expected value integrals for a nonlinear function $f(\\pmb{x}) : \\mathbb{R}^n \\to \\mathbb{R}^m$\n",
    "\\begin{equation}\n",
    "E[f(\\pmb{x})] = \\int_{\\mathbb{R}^n} f(\\pmb{x}) N(\\pmb{x} | \\pmb{0}, I) d \\pmb{x}.\n",
    "\\end{equation}\n",
    "Here the notation $N(\\pmb{x} | \\pmb{0}, I)$ is shorthand for the Gaussian probability density function with mean $\\pmb{0}$ and identity covariance matrix, evaluated at the point $\\pmb{x}$. In Bayesian filtering applications, the Gaussian weighting function is also referred to as the prior distribution. \n",
    "\n",
    "General Gaussian weight functions $N(\\pmb{x} | \\pmb{x_0}, P_x)$ are handled by changing variables\n",
    "\\begin{equation}\n",
    "\\int_{\\mathbb{R}^n} f(\\pmb{x}) N(\\pmb{x} | \\pmb{x_0}, P_x) d \\pmb{x} = \\int f(\\pmb{x_0} + \\sqrt{P_x} \\chi) N(\\pmb{\\chi} | \\pmb{0}, I) d \\pmb{x}\n",
    "\\end{equation}\n",
    "where $\\sqrt{P_x}$ is a matrix square root (typically obtained by Cholesky factorization) of the covariance matrix $P_x$. We will look at quadrature rules of the form \n",
    "\\begin{equation}\n",
    " E[f(\\pmb{x})] \\approx Q[f(\\pmb{x})] = \\sum w_i f(\\pmb{\\chi_i})\n",
    "\\end{equation}\n",
    "with quadrature points $\\pmb{\\chi_i}$, also called sigma points, and associated weights $w_i$. \n",
    "\n",
    "## Gauss-Hermite Quadrature\n",
    "\n",
    "In 1D, the Gauss-Hermite quadrature rule estimates the integral \n",
    "\n",
    "\\begin{equation}\n",
    "\n",
    "\\end{equation}\n",
    "\n",
    "\n",
    "## The Unscented Transform as a Quadrature Rule\n",
    "\n",
    "A quadrature rule of degree $d$ can exactly integrate all monomial (and thus polynomial) functions up to and including degree $d$. A monomial of degree $d$ refers to a function $x_1^{N_1} x_2^{N_2} \\cdots x_n^{N_n}$ where the $N_i$ are non-negative integers that sum to $d$. The unscented transform, described in [1],  is an efficient quadrature rule of degree $d=3$. There a number of formulations of the unscented transform, but we'll look at a commonly used set of $2n + 1$ sigma points, sometimes called Julier sigma points, given by\n",
    "\n",
    "\\begin{equation}\n",
    "\\begin{gathered}\n",
    "\\pmb{\\chi_0} = \\pmb{x_0} \\\\\n",
    "\\pmb{\\chi_i} = \\pmb{x_0} + \\sqrt{n + \\kappa} [\\sqrt{P_x}]_i \\\\\n",
    "\\pmb{\\chi_{i+n}} = \\pmb{x_0} - \\sqrt{n + \\kappa} [\\sqrt{P_x}]_i \\\\\n",
    "i = 1, \\cdots, n\n",
    "\\end{gathered}\n",
    "\\end{equation}\n",
    "with associated weights\n",
    "\n",
    "\\begin{equation}\n",
    "w_i =\n",
    "\\begin{cases} \n",
    "      \\kappa / (n + \\kappa) & i = 0 \\\\\n",
    "      1/2(n + \\kappa) & \\text{otherwise}.\n",
    "\\end{cases}\n",
    "\\end{equation}\n",
    "The notation $[\\sqrt{P_x}]_i$ refers to the $i$-th row of the matrix square root of $P_x$.\n",
    "\n",
    "Let's look at a particular example. Suppose that \n",
    "\\begin{equation}\n",
    "f([x_0, x_1, x_2]^T) = [x_1 x_2 + 1, \\: x_2^2, \\: 5 x_0 x_1 x_2 + 2 x_1]^T\n",
    "\\end{equation}\n",
    "Below we compute the expected value $ E[f(\\pmb{x})]$ using both random sampling and the unscented transform using the Julier sigma points.\n"
   ]
  },
  {
   "cell_type": "code",
   "execution_count": 1,
   "metadata": {},
   "outputs": [
    {
     "name": "stdout",
     "output_type": "stream",
     "text": [
      "Expected value from random sampling: [ 1.02151051  1.01807631 -0.08998407]\n",
      "Expected value from UT: [1. 1. 0.]\n"
     ]
    }
   ],
   "source": [
    "import numpy as np\n",
    "from numpy.random import multivariate_normal\n",
    "from filterpy.kalman.sigmas import SigmaPoints\n",
    "\n",
    "# Nonlinear function\n",
    "def f(X):\n",
    "    return np.array([X[1,:]*X[2,:] + 1., X[2,:]**2, 5.*X[0,:]*X[1,:]*X[2,:] + 2.*X[1,:]])\n",
    "\n",
    "# Compute expected value via random sampling\n",
    "samples = f(multivariate_normal(np.zeros(3), np.eye(3), 5900).T)\n",
    "y_mean1 = samples.mean(axis = 1)\n",
    "\n",
    "# Compute expected value using the UT\n",
    "points = SigmaPoints()\n",
    "# Julier sigma points\n",
    "X, wm, wc = points.get_set(np.zeros(3), np.eye(3), 'julier')\n",
    "y_mean2 = f(X) @ wm\n",
    "\n",
    "print(\"Expected value from random sampling: {}\".format(y_mean1))\n",
    "print(\"Expected value from UT: {}\".format(y_mean2))"
   ]
  },
  {
   "cell_type": "markdown",
   "metadata": {},
   "source": [
    "In this case, the unscented transform computes the expected value since the $f(\\pmb{x})$ has terms involving polynomials of at most degree 3. "
   ]
  }
 ],
 "metadata": {
  "kernelspec": {
   "display_name": ".mut",
   "language": "python",
   "name": ".mut"
  },
  "language_info": {
   "codemirror_mode": {
    "name": "ipython",
    "version": 3
   },
   "file_extension": ".py",
   "mimetype": "text/x-python",
   "name": "python",
   "nbconvert_exporter": "python",
   "pygments_lexer": "ipython3",
   "version": "3.6.7"
  },
  "latex_envs": {
   "LaTeX_envs_menu_present": true,
   "autoclose": false,
   "autocomplete": true,
   "bibliofile": "biblio.bib",
   "cite_by": "apalike",
   "current_citInitial": 1,
   "eqLabelWithNumbers": true,
   "eqNumInitial": 1,
   "hotkeys": {
    "equation": "Ctrl-E",
    "itemize": "Ctrl-I"
   },
   "labels_anchors": false,
   "latex_user_defs": false,
   "report_style_numbering": false,
   "user_envs_cfg": false
  }
 },
 "nbformat": 4,
 "nbformat_minor": 2
}
